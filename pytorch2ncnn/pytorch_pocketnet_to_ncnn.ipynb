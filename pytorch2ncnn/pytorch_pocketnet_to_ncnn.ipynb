{
  "cells": [
    {
      "cell_type": "code",
      "source": [
        "!cat /etc/os-release"
      ],
      "metadata": {
        "colab": {
          "base_uri": "https://localhost:8080/"
        },
        "id": "3fsbAUieBD8v",
        "outputId": "f926912c-f687-4531-e3d8-04cadce7339d"
      },
      "execution_count": 1,
      "outputs": [
        {
          "output_type": "stream",
          "name": "stdout",
          "text": [
            "NAME=\"Ubuntu\"\n",
            "VERSION=\"18.04.5 LTS (Bionic Beaver)\"\n",
            "ID=ubuntu\n",
            "ID_LIKE=debian\n",
            "PRETTY_NAME=\"Ubuntu 18.04.5 LTS\"\n",
            "VERSION_ID=\"18.04\"\n",
            "HOME_URL=\"https://www.ubuntu.com/\"\n",
            "SUPPORT_URL=\"https://help.ubuntu.com/\"\n",
            "BUG_REPORT_URL=\"https://bugs.launchpad.net/ubuntu/\"\n",
            "PRIVACY_POLICY_URL=\"https://www.ubuntu.com/legal/terms-and-policies/privacy-policy\"\n",
            "VERSION_CODENAME=bionic\n",
            "UBUNTU_CODENAME=bionic\n"
          ]
        }
      ]
    },
    {
      "cell_type": "code",
      "source": [
        "!pip install torch==1.10.0"
      ],
      "metadata": {
        "colab": {
          "base_uri": "https://localhost:8080/"
        },
        "id": "raVsTi9UFe4r",
        "outputId": "0f66c987-5ec5-4a42-cf83-88520780a1a1"
      },
      "execution_count": 2,
      "outputs": [
        {
          "output_type": "stream",
          "name": "stdout",
          "text": [
            "Looking in indexes: https://pypi.org/simple, https://us-python.pkg.dev/colab-wheels/public/simple/\n",
            "Collecting torch==1.10.0\n",
            "  Downloading torch-1.10.0-cp37-cp37m-manylinux1_x86_64.whl (881.9 MB)\n",
            "\u001b[K     |██████████████████████████████▎ | 834.1 MB 1.2 MB/s eta 0:00:39tcmalloc: large alloc 1147494400 bytes == 0x21c2000 @  0x7f0010b35615 0x592b76 0x4df71e 0x59afff 0x515655 0x549576 0x593fce 0x548ae9 0x51566f 0x549576 0x593fce 0x548ae9 0x5127f1 0x598e3b 0x511f68 0x598e3b 0x511f68 0x598e3b 0x511f68 0x4bc98a 0x532e76 0x594b72 0x515600 0x549576 0x593fce 0x548ae9 0x5127f1 0x549576 0x593fce 0x5118f8 0x593dd7\n",
            "\u001b[K     |████████████████████████████████| 881.9 MB 19 kB/s \n",
            "\u001b[?25hRequirement already satisfied: typing-extensions in /usr/local/lib/python3.7/dist-packages (from torch==1.10.0) (4.1.1)\n",
            "Installing collected packages: torch\n",
            "  Attempting uninstall: torch\n",
            "    Found existing installation: torch 1.12.0+cu113\n",
            "    Uninstalling torch-1.12.0+cu113:\n",
            "      Successfully uninstalled torch-1.12.0+cu113\n",
            "\u001b[31mERROR: pip's dependency resolver does not currently take into account all the packages that are installed. This behaviour is the source of the following dependency conflicts.\n",
            "torchvision 0.13.0+cu113 requires torch==1.12.0, but you have torch 1.10.0 which is incompatible.\n",
            "torchtext 0.13.0 requires torch==1.12.0, but you have torch 1.10.0 which is incompatible.\n",
            "torchaudio 0.12.0+cu113 requires torch==1.12.0, but you have torch 1.10.0 which is incompatible.\u001b[0m\n",
            "Successfully installed torch-1.10.0\n"
          ]
        }
      ]
    },
    {
      "cell_type": "code",
      "execution_count": 3,
      "metadata": {
        "colab": {
          "base_uri": "https://localhost:8080/"
        },
        "id": "kwbKQvA3lClc",
        "outputId": "45aa6941-f6c9-4754-dba6-fa2b4abbdfac"
      },
      "outputs": [
        {
          "output_type": "stream",
          "name": "stdout",
          "text": [
            "/content\n",
            "Cloning into 'PocketNet'...\n",
            "remote: Enumerating objects: 622, done.\u001b[K\n",
            "remote: Counting objects: 100% (46/46), done.\u001b[K\n",
            "remote: Compressing objects: 100% (18/18), done.\u001b[K\n",
            "remote: Total 622 (delta 32), reused 30 (delta 27), pack-reused 576\u001b[K\n",
            "Receiving objects: 100% (622/622), 73.18 MiB | 21.59 MiB/s, done.\n",
            "Resolving deltas: 100% (346/346), done.\n"
          ]
        }
      ],
      "source": [
        "%cd /content/\n",
        "!git clone https://github.com/kikirizki/PocketNet"
      ]
    },
    {
      "cell_type": "code",
      "source": [
        "#@title Choose Pocketnet Version { run: \"auto\" }\n",
        "import os\n",
        "model_type = 'Pocketnet S256' #@param [\"Pocketnet S128\", \"Pocketnet S256\"] {type:\"string\"}\n",
        "if model_type == 'Pocketnet S128':\n",
        "  os.system(\"gdown 1sDnU-DuotD0nkJ_1AitlqZGu1Torwifu\")\n",
        "if model_type == 'Pocketnet S256':\n",
        "  os.system(\"gdown 1r3tqeZ8JWg-KHjx9lFc3a7pxgd1aVYpS\")  "
      ],
      "metadata": {
        "id": "dV6tKTIC04W-"
      },
      "execution_count": 4,
      "outputs": []
    },
    {
      "cell_type": "code",
      "execution_count": 6,
      "metadata": {
        "colab": {
          "base_uri": "https://localhost:8080/"
        },
        "id": "Bicgzrczv9Y7",
        "outputId": "f9595bb3-45c5-4eb2-c4cf-7a3024793ef6"
      },
      "outputs": [
        {
          "output_type": "stream",
          "name": "stdout",
          "text": [
            "/content/PocketNet\n",
            "call Factorized\n",
            "call Factorized\n"
          ]
        }
      ],
      "source": [
        "%cd /content/PocketNet\n",
        "import logging\n",
        "import os\n",
        "import sys\n",
        "import torch\n",
        "from backbones.augment_cnn import AugmentCNN \n",
        "import backbones.genotypes as gt\n",
        "\n",
        "if model_type == 'Pocketnet S128':\n",
        "    from configs.config_PocketNetS128 import config as cfg\n",
        "    \n",
        "if model_type == 'Pocketnet S256':\n",
        "    from configs.config_PocketNetS256 import config as cfg\n",
        "\n",
        "model_path = \"/content/295672backbone.pth\"\n",
        "genotype = gt.from_str(cfg.genotypes[\"softmax_casia\"])\n",
        "backbone=AugmentCNN(C=cfg.channel, n_layers=cfg.n_layers, genotype=genotype, stem_multiplier=4,\n",
        "                       emb=cfg.embedding_size)\n",
        "backbone.load_state_dict(torch.load(model_path))\n",
        "backbone.eval()\n",
        "x = torch.randn([1,3,112,112])\n",
        "torch.onnx.export(backbone,               # model being run\n",
        "                  x,                         # model input (or a tuple for multiple inputs)\n",
        "                  \"pocketnet.onnx\",   # where to save the model (can be a file or file-like object)\n",
        "                  export_params=True,        # store the trained parameter weights inside the model file\n",
        "                  opset_version=10,          # the ONNX version to export the model to\n",
        "                  do_constant_folding=True,\n",
        "                  input_names = ['data'],   # the model's input names\n",
        "                  output_names = ['fc1']\n",
        "                  )"
      ]
    },
    {
      "cell_type": "code",
      "execution_count": 7,
      "metadata": {
        "colab": {
          "base_uri": "https://localhost:8080/"
        },
        "id": "kxQE9oSjKMH-",
        "outputId": "03486eb7-c0e7-4801-cb57-12372054e786"
      },
      "outputs": [
        {
          "output_type": "stream",
          "name": "stdout",
          "text": [
            "/content\n"
          ]
        }
      ],
      "source": [
        "%cd /content/\n",
        "!wget -q https://github.com/Tencent/ncnn/releases/download/20220701/ncnn-20220701-ubuntu-1804.zip\n",
        "!unzip -q ncnn-20220701-ubuntu-1804.zip\n",
        "\n",
        "import os\n",
        "os.environ['PATH'] += \":/content/ncnn-20220701-ubuntu-1804/bin\""
      ]
    },
    {
      "cell_type": "code",
      "execution_count": 8,
      "metadata": {
        "colab": {
          "base_uri": "https://localhost:8080/"
        },
        "id": "gq_eqQk5KfAj",
        "outputId": "d335b7ce-5845-45d6-b139-436caa917b18"
      },
      "outputs": [
        {
          "output_type": "stream",
          "name": "stdout",
          "text": [
            "/content/PocketNet\n"
          ]
        }
      ],
      "source": [
        "%cd /content/PocketNet\n",
        "!onnx2ncnn \\\n",
        "  pocketnet.onnx \\\n",
        "  pocketnet.param \\\n",
        "  pocketnet.bin"
      ]
    },
    {
      "cell_type": "code",
      "execution_count": 9,
      "metadata": {
        "colab": {
          "base_uri": "https://localhost:8080/"
        },
        "id": "7P-5P2KcL-Tt",
        "outputId": "51a46b00-ced0-4564-e878-e01f50715923"
      },
      "outputs": [
        {
          "output_type": "stream",
          "name": "stdout",
          "text": [
            "Reading package lists... Done\n",
            "Building dependency tree       \n",
            "Reading state information... Done\n",
            "The following package was automatically installed and is no longer required:\n",
            "  libnvidia-common-460\n",
            "Use 'apt autoremove' to remove it.\n",
            "The following additional packages will be installed:\n",
            "  libvulkan1 mesa-vulkan-drivers vulkan-tools\n",
            "The following NEW packages will be installed:\n",
            "  libvulkan1 mesa-vulkan-drivers vulkan-tools vulkan-utils\n",
            "0 upgraded, 4 newly installed, 0 to remove and 49 not upgraded.\n",
            "Need to get 3,315 kB of archives.\n",
            "After this operation, 15.9 MB of additional disk space will be used.\n",
            "Get:1 http://ppa.launchpad.net/graphics-drivers/ppa/ubuntu bionic/main amd64 libvulkan1 amd64 1.1.126.0-2~gpu18.04.1 [101 kB]\n",
            "Get:2 http://archive.ubuntu.com/ubuntu bionic-updates/universe amd64 mesa-vulkan-drivers amd64 20.0.8-0ubuntu1~18.04.1 [3,059 kB]\n",
            "Get:3 http://ppa.launchpad.net/graphics-drivers/ppa/ubuntu bionic/main amd64 vulkan-tools amd64 1.1.126.0+dfsg1-1~gpu18.04.1 [152 kB]\n",
            "Get:4 http://ppa.launchpad.net/graphics-drivers/ppa/ubuntu bionic/main amd64 vulkan-utils all 1.1.126.0+dfsg1-1~gpu18.04.1 [2,612 B]\n",
            "Fetched 3,315 kB in 0s (23.3 MB/s)\n",
            "Selecting previously unselected package libvulkan1:amd64.\n",
            "(Reading database ... 155653 files and directories currently installed.)\n",
            "Preparing to unpack .../libvulkan1_1.1.126.0-2~gpu18.04.1_amd64.deb ...\n",
            "Unpacking libvulkan1:amd64 (1.1.126.0-2~gpu18.04.1) ...\n",
            "Selecting previously unselected package mesa-vulkan-drivers:amd64.\n",
            "Preparing to unpack .../mesa-vulkan-drivers_20.0.8-0ubuntu1~18.04.1_amd64.deb ...\n",
            "Unpacking mesa-vulkan-drivers:amd64 (20.0.8-0ubuntu1~18.04.1) ...\n",
            "Selecting previously unselected package vulkan-tools.\n",
            "Preparing to unpack .../vulkan-tools_1.1.126.0+dfsg1-1~gpu18.04.1_amd64.deb ...\n",
            "Unpacking vulkan-tools (1.1.126.0+dfsg1-1~gpu18.04.1) ...\n",
            "Selecting previously unselected package vulkan-utils.\n",
            "Preparing to unpack .../vulkan-utils_1.1.126.0+dfsg1-1~gpu18.04.1_all.deb ...\n",
            "Unpacking vulkan-utils (1.1.126.0+dfsg1-1~gpu18.04.1) ...\n",
            "Setting up libvulkan1:amd64 (1.1.126.0-2~gpu18.04.1) ...\n",
            "Setting up vulkan-tools (1.1.126.0+dfsg1-1~gpu18.04.1) ...\n",
            "Setting up mesa-vulkan-drivers:amd64 (20.0.8-0ubuntu1~18.04.1) ...\n",
            "Setting up vulkan-utils (1.1.126.0+dfsg1-1~gpu18.04.1) ...\n",
            "Processing triggers for man-db (2.8.3-2ubuntu0.1) ...\n",
            "Processing triggers for libc-bin (2.27-3ubuntu1.3) ...\n",
            "/sbin/ldconfig.real: /usr/local/lib/python3.7/dist-packages/ideep4py/lib/libmkldnn.so.0 is not a symbolic link\n",
            "\n",
            "Input layer data without shape info, shape_inference skipped\n",
            "Input layer data without shape info, estimate_memory_footprint skipped\n"
          ]
        }
      ],
      "source": [
        "!apt install vulkan-utils\n",
        "# https://github.com/Tencent/ncnn/wiki/use-ncnnoptimize-to-optimize-model\n",
        "!ncnnoptimize \\\n",
        "  pocketnet.param \\\n",
        "  pocketnet.bin \\\n",
        "  pocketnet-opt.param \\\n",
        "  pocketnet-opt.bin \\\n",
        "  65536"
      ]
    },
    {
      "cell_type": "code",
      "execution_count": 10,
      "metadata": {
        "colab": {
          "base_uri": "https://localhost:8080/",
          "height": 69
        },
        "id": "e5FO_ZlXLmRu",
        "outputId": "403bc98f-2af8-4c57-9ace-a586e629ed09"
      },
      "outputs": [
        {
          "output_type": "stream",
          "name": "stdout",
          "text": [
            "  adding: pocketnet/ (stored 0%)\n",
            "  adding: pocketnet/pocketnet.param (deflated 86%)\n",
            "  adding: pocketnet/pocketnet.bin (deflated 8%)\n"
          ]
        },
        {
          "output_type": "display_data",
          "data": {
            "text/plain": [
              "<IPython.core.display.Javascript object>"
            ],
            "application/javascript": [
              "\n",
              "    async function download(id, filename, size) {\n",
              "      if (!google.colab.kernel.accessAllowed) {\n",
              "        return;\n",
              "      }\n",
              "      const div = document.createElement('div');\n",
              "      const label = document.createElement('label');\n",
              "      label.textContent = `Downloading \"${filename}\": `;\n",
              "      div.appendChild(label);\n",
              "      const progress = document.createElement('progress');\n",
              "      progress.max = size;\n",
              "      div.appendChild(progress);\n",
              "      document.body.appendChild(div);\n",
              "\n",
              "      const buffers = [];\n",
              "      let downloaded = 0;\n",
              "\n",
              "      const channel = await google.colab.kernel.comms.open(id);\n",
              "      // Send a message to notify the kernel that we're ready.\n",
              "      channel.send({})\n",
              "\n",
              "      for await (const message of channel.messages) {\n",
              "        // Send a message to notify the kernel that we're ready.\n",
              "        channel.send({})\n",
              "        if (message.buffers) {\n",
              "          for (const buffer of message.buffers) {\n",
              "            buffers.push(buffer);\n",
              "            downloaded += buffer.byteLength;\n",
              "            progress.value = downloaded;\n",
              "          }\n",
              "        }\n",
              "      }\n",
              "      const blob = new Blob(buffers, {type: 'application/binary'});\n",
              "      const a = document.createElement('a');\n",
              "      a.href = window.URL.createObjectURL(blob);\n",
              "      a.download = filename;\n",
              "      div.appendChild(a);\n",
              "      a.click();\n",
              "      div.remove();\n",
              "    }\n",
              "  "
            ]
          },
          "metadata": {}
        },
        {
          "output_type": "display_data",
          "data": {
            "text/plain": [
              "<IPython.core.display.Javascript object>"
            ],
            "application/javascript": [
              "download(\"download_7e91b76b-7d42-4ac1-a402-3bd7af847c62\", \"pocketnet.zip\", 1864273)"
            ]
          },
          "metadata": {}
        }
      ],
      "source": [
        "!mkdir pocketnet\n",
        "!cp pocketnet-opt.param pocketnet/pocketnet.param\n",
        "!cp pocketnet-opt.bin pocketnet/pocketnet.bin\n",
        "\n",
        "!zip -r pocketnet.zip pocketnet\n",
        "\n",
        "from google.colab import files\n",
        "files.download(\"pocketnet.zip\")"
      ]
    }
  ],
  "metadata": {
    "accelerator": "GPU",
    "colab": {
      "collapsed_sections": [],
      "name": "pytorch_pocketnet_to_ncnn.ipynb",
      "provenance": []
    },
    "gpuClass": "standard",
    "kernelspec": {
      "display_name": "Python 3",
      "name": "python3"
    },
    "language_info": {
      "name": "python"
    }
  },
  "nbformat": 4,
  "nbformat_minor": 0
}