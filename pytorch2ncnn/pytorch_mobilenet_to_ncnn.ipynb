{
  "nbformat": 4,
  "nbformat_minor": 0,
  "metadata": {
    "colab": {
      "name": "pytorch_mobilenet_to_ncnn.ipynb",
      "provenance": [],
      "collapsed_sections": []
    },
    "kernelspec": {
      "name": "python3",
      "display_name": "Python 3"
    },
    "language_info": {
      "name": "python"
    },
    "accelerator": "GPU",
    "gpuClass": "standard",
    "widgets": {
      "application/vnd.jupyter.widget-state+json": {
        "c57b72b3bace42f097e97098b4f00d07": {
          "model_module": "@jupyter-widgets/controls",
          "model_name": "HBoxModel",
          "model_module_version": "1.5.0",
          "state": {
            "_dom_classes": [],
            "_model_module": "@jupyter-widgets/controls",
            "_model_module_version": "1.5.0",
            "_model_name": "HBoxModel",
            "_view_count": null,
            "_view_module": "@jupyter-widgets/controls",
            "_view_module_version": "1.5.0",
            "_view_name": "HBoxView",
            "box_style": "",
            "children": [
              "IPY_MODEL_c891f726697742fabf9d8dd957b60f38",
              "IPY_MODEL_1993ad2925cc4bba99581e538c379663",
              "IPY_MODEL_cbb201f18bbb48e3ba4b763e24a7ce36"
            ],
            "layout": "IPY_MODEL_78881166c5254a71b9cbc5c2af22f67e"
          }
        },
        "c891f726697742fabf9d8dd957b60f38": {
          "model_module": "@jupyter-widgets/controls",
          "model_name": "HTMLModel",
          "model_module_version": "1.5.0",
          "state": {
            "_dom_classes": [],
            "_model_module": "@jupyter-widgets/controls",
            "_model_module_version": "1.5.0",
            "_model_name": "HTMLModel",
            "_view_count": null,
            "_view_module": "@jupyter-widgets/controls",
            "_view_module_version": "1.5.0",
            "_view_name": "HTMLView",
            "description": "",
            "description_tooltip": null,
            "layout": "IPY_MODEL_e6fc655c5e364a638df915a136ad69bf",
            "placeholder": "​",
            "style": "IPY_MODEL_c3f1552918284559bf0f58295ab00887",
            "value": "100%"
          }
        },
        "1993ad2925cc4bba99581e538c379663": {
          "model_module": "@jupyter-widgets/controls",
          "model_name": "FloatProgressModel",
          "model_module_version": "1.5.0",
          "state": {
            "_dom_classes": [],
            "_model_module": "@jupyter-widgets/controls",
            "_model_module_version": "1.5.0",
            "_model_name": "FloatProgressModel",
            "_view_count": null,
            "_view_module": "@jupyter-widgets/controls",
            "_view_module_version": "1.5.0",
            "_view_name": "ProgressView",
            "bar_style": "success",
            "description": "",
            "description_tooltip": null,
            "layout": "IPY_MODEL_c61a232e88f44859969b6c059b5188a8",
            "max": 14212972,
            "min": 0,
            "orientation": "horizontal",
            "style": "IPY_MODEL_f9074daf197444d1a7e135fe14dec862",
            "value": 14212972
          }
        },
        "cbb201f18bbb48e3ba4b763e24a7ce36": {
          "model_module": "@jupyter-widgets/controls",
          "model_name": "HTMLModel",
          "model_module_version": "1.5.0",
          "state": {
            "_dom_classes": [],
            "_model_module": "@jupyter-widgets/controls",
            "_model_module_version": "1.5.0",
            "_model_name": "HTMLModel",
            "_view_count": null,
            "_view_module": "@jupyter-widgets/controls",
            "_view_module_version": "1.5.0",
            "_view_name": "HTMLView",
            "description": "",
            "description_tooltip": null,
            "layout": "IPY_MODEL_763d7a30ef734b76b17abe427ba62b47",
            "placeholder": "​",
            "style": "IPY_MODEL_2ad6b554c37b490397f54c93371ed8fe",
            "value": " 13.6M/13.6M [00:00&lt;00:00, 63.6MB/s]"
          }
        },
        "78881166c5254a71b9cbc5c2af22f67e": {
          "model_module": "@jupyter-widgets/base",
          "model_name": "LayoutModel",
          "model_module_version": "1.2.0",
          "state": {
            "_model_module": "@jupyter-widgets/base",
            "_model_module_version": "1.2.0",
            "_model_name": "LayoutModel",
            "_view_count": null,
            "_view_module": "@jupyter-widgets/base",
            "_view_module_version": "1.2.0",
            "_view_name": "LayoutView",
            "align_content": null,
            "align_items": null,
            "align_self": null,
            "border": null,
            "bottom": null,
            "display": null,
            "flex": null,
            "flex_flow": null,
            "grid_area": null,
            "grid_auto_columns": null,
            "grid_auto_flow": null,
            "grid_auto_rows": null,
            "grid_column": null,
            "grid_gap": null,
            "grid_row": null,
            "grid_template_areas": null,
            "grid_template_columns": null,
            "grid_template_rows": null,
            "height": null,
            "justify_content": null,
            "justify_items": null,
            "left": null,
            "margin": null,
            "max_height": null,
            "max_width": null,
            "min_height": null,
            "min_width": null,
            "object_fit": null,
            "object_position": null,
            "order": null,
            "overflow": null,
            "overflow_x": null,
            "overflow_y": null,
            "padding": null,
            "right": null,
            "top": null,
            "visibility": null,
            "width": null
          }
        },
        "e6fc655c5e364a638df915a136ad69bf": {
          "model_module": "@jupyter-widgets/base",
          "model_name": "LayoutModel",
          "model_module_version": "1.2.0",
          "state": {
            "_model_module": "@jupyter-widgets/base",
            "_model_module_version": "1.2.0",
            "_model_name": "LayoutModel",
            "_view_count": null,
            "_view_module": "@jupyter-widgets/base",
            "_view_module_version": "1.2.0",
            "_view_name": "LayoutView",
            "align_content": null,
            "align_items": null,
            "align_self": null,
            "border": null,
            "bottom": null,
            "display": null,
            "flex": null,
            "flex_flow": null,
            "grid_area": null,
            "grid_auto_columns": null,
            "grid_auto_flow": null,
            "grid_auto_rows": null,
            "grid_column": null,
            "grid_gap": null,
            "grid_row": null,
            "grid_template_areas": null,
            "grid_template_columns": null,
            "grid_template_rows": null,
            "height": null,
            "justify_content": null,
            "justify_items": null,
            "left": null,
            "margin": null,
            "max_height": null,
            "max_width": null,
            "min_height": null,
            "min_width": null,
            "object_fit": null,
            "object_position": null,
            "order": null,
            "overflow": null,
            "overflow_x": null,
            "overflow_y": null,
            "padding": null,
            "right": null,
            "top": null,
            "visibility": null,
            "width": null
          }
        },
        "c3f1552918284559bf0f58295ab00887": {
          "model_module": "@jupyter-widgets/controls",
          "model_name": "DescriptionStyleModel",
          "model_module_version": "1.5.0",
          "state": {
            "_model_module": "@jupyter-widgets/controls",
            "_model_module_version": "1.5.0",
            "_model_name": "DescriptionStyleModel",
            "_view_count": null,
            "_view_module": "@jupyter-widgets/base",
            "_view_module_version": "1.2.0",
            "_view_name": "StyleView",
            "description_width": ""
          }
        },
        "c61a232e88f44859969b6c059b5188a8": {
          "model_module": "@jupyter-widgets/base",
          "model_name": "LayoutModel",
          "model_module_version": "1.2.0",
          "state": {
            "_model_module": "@jupyter-widgets/base",
            "_model_module_version": "1.2.0",
            "_model_name": "LayoutModel",
            "_view_count": null,
            "_view_module": "@jupyter-widgets/base",
            "_view_module_version": "1.2.0",
            "_view_name": "LayoutView",
            "align_content": null,
            "align_items": null,
            "align_self": null,
            "border": null,
            "bottom": null,
            "display": null,
            "flex": null,
            "flex_flow": null,
            "grid_area": null,
            "grid_auto_columns": null,
            "grid_auto_flow": null,
            "grid_auto_rows": null,
            "grid_column": null,
            "grid_gap": null,
            "grid_row": null,
            "grid_template_areas": null,
            "grid_template_columns": null,
            "grid_template_rows": null,
            "height": null,
            "justify_content": null,
            "justify_items": null,
            "left": null,
            "margin": null,
            "max_height": null,
            "max_width": null,
            "min_height": null,
            "min_width": null,
            "object_fit": null,
            "object_position": null,
            "order": null,
            "overflow": null,
            "overflow_x": null,
            "overflow_y": null,
            "padding": null,
            "right": null,
            "top": null,
            "visibility": null,
            "width": null
          }
        },
        "f9074daf197444d1a7e135fe14dec862": {
          "model_module": "@jupyter-widgets/controls",
          "model_name": "ProgressStyleModel",
          "model_module_version": "1.5.0",
          "state": {
            "_model_module": "@jupyter-widgets/controls",
            "_model_module_version": "1.5.0",
            "_model_name": "ProgressStyleModel",
            "_view_count": null,
            "_view_module": "@jupyter-widgets/base",
            "_view_module_version": "1.2.0",
            "_view_name": "StyleView",
            "bar_color": null,
            "description_width": ""
          }
        },
        "763d7a30ef734b76b17abe427ba62b47": {
          "model_module": "@jupyter-widgets/base",
          "model_name": "LayoutModel",
          "model_module_version": "1.2.0",
          "state": {
            "_model_module": "@jupyter-widgets/base",
            "_model_module_version": "1.2.0",
            "_model_name": "LayoutModel",
            "_view_count": null,
            "_view_module": "@jupyter-widgets/base",
            "_view_module_version": "1.2.0",
            "_view_name": "LayoutView",
            "align_content": null,
            "align_items": null,
            "align_self": null,
            "border": null,
            "bottom": null,
            "display": null,
            "flex": null,
            "flex_flow": null,
            "grid_area": null,
            "grid_auto_columns": null,
            "grid_auto_flow": null,
            "grid_auto_rows": null,
            "grid_column": null,
            "grid_gap": null,
            "grid_row": null,
            "grid_template_areas": null,
            "grid_template_columns": null,
            "grid_template_rows": null,
            "height": null,
            "justify_content": null,
            "justify_items": null,
            "left": null,
            "margin": null,
            "max_height": null,
            "max_width": null,
            "min_height": null,
            "min_width": null,
            "object_fit": null,
            "object_position": null,
            "order": null,
            "overflow": null,
            "overflow_x": null,
            "overflow_y": null,
            "padding": null,
            "right": null,
            "top": null,
            "visibility": null,
            "width": null
          }
        },
        "2ad6b554c37b490397f54c93371ed8fe": {
          "model_module": "@jupyter-widgets/controls",
          "model_name": "DescriptionStyleModel",
          "model_module_version": "1.5.0",
          "state": {
            "_model_module": "@jupyter-widgets/controls",
            "_model_module_version": "1.5.0",
            "_model_name": "DescriptionStyleModel",
            "_view_count": null,
            "_view_module": "@jupyter-widgets/base",
            "_view_module_version": "1.2.0",
            "_view_name": "StyleView",
            "description_width": ""
          }
        }
      }
    }
  },
  "cells": [
    {
      "cell_type": "markdown",
      "source": [
        "## Define Your Model"
      ],
      "metadata": {
        "id": "UA3AR1eKKOEW"
      }
    },
    {
      "cell_type": "code",
      "execution_count": 1,
      "metadata": {
        "colab": {
          "base_uri": "https://localhost:8080/",
          "height": 121,
          "referenced_widgets": [
            "c57b72b3bace42f097e97098b4f00d07",
            "c891f726697742fabf9d8dd957b60f38",
            "1993ad2925cc4bba99581e538c379663",
            "cbb201f18bbb48e3ba4b763e24a7ce36",
            "78881166c5254a71b9cbc5c2af22f67e",
            "e6fc655c5e364a638df915a136ad69bf",
            "c3f1552918284559bf0f58295ab00887",
            "c61a232e88f44859969b6c059b5188a8",
            "f9074daf197444d1a7e135fe14dec862",
            "763d7a30ef734b76b17abe427ba62b47",
            "2ad6b554c37b490397f54c93371ed8fe"
          ]
        },
        "id": "ccFNyOAgHtIy",
        "outputId": "cf9cb412-73c2-431f-9849-05d6cf30d59c"
      },
      "outputs": [
        {
          "output_type": "stream",
          "name": "stderr",
          "text": [
            "Downloading: \"https://github.com/pytorch/vision/archive/v0.10.0.zip\" to /root/.cache/torch/hub/v0.10.0.zip\n",
            "Downloading: \"https://download.pytorch.org/models/mobilenet_v2-b0353104.pth\" to /root/.cache/torch/hub/checkpoints/mobilenet_v2-b0353104.pth\n"
          ]
        },
        {
          "output_type": "display_data",
          "data": {
            "text/plain": [
              "  0%|          | 0.00/13.6M [00:00<?, ?B/s]"
            ],
            "application/vnd.jupyter.widget-view+json": {
              "version_major": 2,
              "version_minor": 0,
              "model_id": "c57b72b3bace42f097e97098b4f00d07"
            }
          },
          "metadata": {}
        },
        {
          "output_type": "stream",
          "name": "stdout",
          "text": [
            "\n"
          ]
        }
      ],
      "source": [
        "import torch\n",
        "model = torch.hub.load('pytorch/vision:v0.10.0', 'mobilenet_v2', pretrained=True)\n",
        "model.eval().cpu()\n",
        "print()"
      ]
    },
    {
      "cell_type": "markdown",
      "source": [
        "## Export to ONNX"
      ],
      "metadata": {
        "id": "INkVXS4RKQ3h"
      }
    },
    {
      "cell_type": "code",
      "source": [
        "x = torch.randn(1,3,224,224)\n",
        "torch.onnx.export(model,               # model being run\n",
        "                  x,                         # model input (or a tuple for multiple inputs)\n",
        "                  \"mobilenet.onnx\",   # where to save the model (can be a file or file-like object)\n",
        "                  export_params=True,        # store the trained parameter weights inside the model file\n",
        "                  opset_version=10,          # the ONNX version to export the model to\n",
        "                  do_constant_folding=True,  # whether to execute constant folding for optimization\n",
        "                 )\n"
      ],
      "metadata": {
        "id": "LCL5NVZUIORQ"
      },
      "execution_count": 4,
      "outputs": []
    },
    {
      "cell_type": "markdown",
      "source": [
        "## Install ONNX to NCNN"
      ],
      "metadata": {
        "id": "n_gMMKE7Ky1X"
      }
    },
    {
      "cell_type": "code",
      "source": [
        "!wget -q https://github.com/Tencent/ncnn/releases/download/20220216/ncnn-20220216-ubuntu-1804.zip\n",
        "!unzip -q ncnn-20220216-ubuntu-1804.zip\n",
        "\n",
        "import os\n",
        "os.environ['PATH'] += \":/content/ncnn-20220216-ubuntu-1804/bin\""
      ],
      "metadata": {
        "id": "JQ5zplQsJVYn"
      },
      "execution_count": 5,
      "outputs": []
    },
    {
      "cell_type": "markdown",
      "source": [
        "## Convert ONNX to NCNN"
      ],
      "metadata": {
        "id": "UHneDnJ-LVC5"
      }
    },
    {
      "cell_type": "code",
      "source": [
        "!onnx2ncnn \\\n",
        "  mobilenet.onnx \\\n",
        "  mobilenet.param \\\n",
        "  mobilenet.bin"
      ],
      "metadata": {
        "id": "Tz2_oRCtKocE"
      },
      "execution_count": 6,
      "outputs": []
    },
    {
      "cell_type": "markdown",
      "source": [
        "## Optimize NCNN model"
      ],
      "metadata": {
        "id": "px3wa06fLhv8"
      }
    },
    {
      "cell_type": "code",
      "source": [
        "!apt install vulkan-utils\n",
        "\n",
        "# https://github.com/Tencent/ncnn/wiki/use-ncnnoptimize-to-optimize-model\n",
        "!ncnnoptimize \\\n",
        "  mobilenet.param \\\n",
        "  mobilenet.bin \\\n",
        "  mobilenet-opt.param \\\n",
        "  mobilenet-opt.bin \\\n",
        "  65536"
      ],
      "metadata": {
        "colab": {
          "base_uri": "https://localhost:8080/"
        },
        "id": "4mAbAgvQLhN-",
        "outputId": "e9e7c403-0ca2-49ed-edff-d508b63b9640"
      },
      "execution_count": 7,
      "outputs": [
        {
          "output_type": "stream",
          "name": "stdout",
          "text": [
            "Reading package lists... Done\n",
            "Building dependency tree       \n",
            "Reading state information... Done\n",
            "The following package was automatically installed and is no longer required:\n",
            "  libnvidia-common-460\n",
            "Use 'apt autoremove' to remove it.\n",
            "The following additional packages will be installed:\n",
            "  libvulkan1 mesa-vulkan-drivers vulkan-tools\n",
            "The following NEW packages will be installed:\n",
            "  libvulkan1 mesa-vulkan-drivers vulkan-tools vulkan-utils\n",
            "0 upgraded, 4 newly installed, 0 to remove and 49 not upgraded.\n",
            "Need to get 3,315 kB of archives.\n",
            "After this operation, 15.9 MB of additional disk space will be used.\n",
            "Get:1 http://ppa.launchpad.net/graphics-drivers/ppa/ubuntu bionic/main amd64 libvulkan1 amd64 1.1.126.0-2~gpu18.04.1 [101 kB]\n",
            "Get:2 http://archive.ubuntu.com/ubuntu bionic-updates/universe amd64 mesa-vulkan-drivers amd64 20.0.8-0ubuntu1~18.04.1 [3,059 kB]\n",
            "Get:3 http://ppa.launchpad.net/graphics-drivers/ppa/ubuntu bionic/main amd64 vulkan-tools amd64 1.1.126.0+dfsg1-1~gpu18.04.1 [152 kB]\n",
            "Get:4 http://ppa.launchpad.net/graphics-drivers/ppa/ubuntu bionic/main amd64 vulkan-utils all 1.1.126.0+dfsg1-1~gpu18.04.1 [2,612 B]\n",
            "Fetched 3,315 kB in 0s (24.2 MB/s)\n",
            "Selecting previously unselected package libvulkan1:amd64.\n",
            "(Reading database ... 155639 files and directories currently installed.)\n",
            "Preparing to unpack .../libvulkan1_1.1.126.0-2~gpu18.04.1_amd64.deb ...\n",
            "Unpacking libvulkan1:amd64 (1.1.126.0-2~gpu18.04.1) ...\n",
            "Selecting previously unselected package mesa-vulkan-drivers:amd64.\n",
            "Preparing to unpack .../mesa-vulkan-drivers_20.0.8-0ubuntu1~18.04.1_amd64.deb ...\n",
            "Unpacking mesa-vulkan-drivers:amd64 (20.0.8-0ubuntu1~18.04.1) ...\n",
            "Selecting previously unselected package vulkan-tools.\n",
            "Preparing to unpack .../vulkan-tools_1.1.126.0+dfsg1-1~gpu18.04.1_amd64.deb ...\n",
            "Unpacking vulkan-tools (1.1.126.0+dfsg1-1~gpu18.04.1) ...\n",
            "Selecting previously unselected package vulkan-utils.\n",
            "Preparing to unpack .../vulkan-utils_1.1.126.0+dfsg1-1~gpu18.04.1_all.deb ...\n",
            "Unpacking vulkan-utils (1.1.126.0+dfsg1-1~gpu18.04.1) ...\n",
            "Setting up libvulkan1:amd64 (1.1.126.0-2~gpu18.04.1) ...\n",
            "Setting up vulkan-tools (1.1.126.0+dfsg1-1~gpu18.04.1) ...\n",
            "Setting up mesa-vulkan-drivers:amd64 (20.0.8-0ubuntu1~18.04.1) ...\n",
            "Setting up vulkan-utils (1.1.126.0+dfsg1-1~gpu18.04.1) ...\n",
            "Processing triggers for man-db (2.8.3-2ubuntu0.1) ...\n",
            "Processing triggers for libc-bin (2.27-3ubuntu1.3) ...\n",
            "/sbin/ldconfig.real: /usr/local/lib/python3.7/dist-packages/ideep4py/lib/libmkldnn.so.0 is not a symbolic link\n",
            "\n",
            "fuse_convolution_activation Conv_0 Clip_1\n",
            "fuse_convolution_activation Conv_5 Clip_6\n",
            "fuse_convolution_activation Conv_10 Clip_11\n",
            "fuse_convolution_activation Conv_16 Clip_17\n",
            "fuse_convolution_activation Conv_21 Clip_22\n",
            "fuse_convolution_activation Conv_27 Clip_28\n",
            "fuse_convolution_activation Conv_33 Clip_34\n",
            "fuse_convolution_activation Conv_38 Clip_39\n",
            "fuse_convolution_activation Conv_44 Clip_45\n",
            "fuse_convolution_activation Conv_50 Clip_51\n",
            "fuse_convolution_activation Conv_56 Clip_57\n",
            "fuse_convolution_activation Conv_61 Clip_62\n",
            "fuse_convolution_activation Conv_67 Clip_68\n",
            "fuse_convolution_activation Conv_73 Clip_74\n",
            "fuse_convolution_activation Conv_78 Clip_79\n",
            "fuse_convolution_activation Conv_84 Clip_85\n",
            "fuse_convolution_activation Conv_90 Clip_91\n",
            "fuse_convolution_activation Conv_95 Clip_96\n",
            "fuse_convolutiondepthwise_activation Conv_2 Clip_3\n",
            "fuse_convolutiondepthwise_activation Conv_7 Clip_8\n",
            "fuse_convolutiondepthwise_activation Conv_12 Clip_13\n",
            "fuse_convolutiondepthwise_activation Conv_18 Clip_19\n",
            "fuse_convolutiondepthwise_activation Conv_23 Clip_24\n",
            "fuse_convolutiondepthwise_activation Conv_29 Clip_30\n",
            "fuse_convolutiondepthwise_activation Conv_35 Clip_36\n",
            "fuse_convolutiondepthwise_activation Conv_40 Clip_41\n",
            "fuse_convolutiondepthwise_activation Conv_46 Clip_47\n",
            "fuse_convolutiondepthwise_activation Conv_52 Clip_53\n",
            "fuse_convolutiondepthwise_activation Conv_58 Clip_59\n",
            "fuse_convolutiondepthwise_activation Conv_63 Clip_64\n",
            "fuse_convolutiondepthwise_activation Conv_69 Clip_70\n",
            "fuse_convolutiondepthwise_activation Conv_75 Clip_76\n",
            "fuse_convolutiondepthwise_activation Conv_80 Clip_81\n",
            "fuse_convolutiondepthwise_activation Conv_86 Clip_87\n",
            "fuse_convolutiondepthwise_activation Conv_92 Clip_93\n",
            "eliminate_flatten_after_global_pooling GlobalAveragePool_97 Flatten_98\n",
            "Input layer input.1 without shape info, shape_inference skipped\n",
            "Input layer input.1 without shape info, estimate_memory_footprint skipped\n"
          ]
        }
      ]
    },
    {
      "cell_type": "markdown",
      "source": [
        "## Download result"
      ],
      "metadata": {
        "id": "HfOUN07rMCLk"
      }
    },
    {
      "cell_type": "code",
      "source": [
        "!mkdir mobilenet\n",
        "!cp mobilenet-opt.param mobilenet/mobilenet.param\n",
        "!cp mobilenet-opt.bin mobilenet/mobilenet.bin\n",
        "\n",
        "!zip -r mobilenet.zip mobilenet\n",
        "\n",
        "from google.colab import files\n",
        "files.download(\"mobilenet.zip\")"
      ],
      "metadata": {
        "colab": {
          "base_uri": "https://localhost:8080/",
          "height": 69
        },
        "id": "sksAJbibLtEq",
        "outputId": "5e7f47c3-2b22-4c6c-8936-bda1ce226513"
      },
      "execution_count": 8,
      "outputs": [
        {
          "output_type": "stream",
          "name": "stdout",
          "text": [
            "  adding: mobilenet/ (stored 0%)\n",
            "  adding: mobilenet/mobilenet.param (deflated 86%)\n",
            "  adding: mobilenet/mobilenet.bin (deflated 8%)\n"
          ]
        },
        {
          "output_type": "display_data",
          "data": {
            "text/plain": [
              "<IPython.core.display.Javascript object>"
            ],
            "application/javascript": [
              "\n",
              "    async function download(id, filename, size) {\n",
              "      if (!google.colab.kernel.accessAllowed) {\n",
              "        return;\n",
              "      }\n",
              "      const div = document.createElement('div');\n",
              "      const label = document.createElement('label');\n",
              "      label.textContent = `Downloading \"${filename}\": `;\n",
              "      div.appendChild(label);\n",
              "      const progress = document.createElement('progress');\n",
              "      progress.max = size;\n",
              "      div.appendChild(progress);\n",
              "      document.body.appendChild(div);\n",
              "\n",
              "      const buffers = [];\n",
              "      let downloaded = 0;\n",
              "\n",
              "      const channel = await google.colab.kernel.comms.open(id);\n",
              "      // Send a message to notify the kernel that we're ready.\n",
              "      channel.send({})\n",
              "\n",
              "      for await (const message of channel.messages) {\n",
              "        // Send a message to notify the kernel that we're ready.\n",
              "        channel.send({})\n",
              "        if (message.buffers) {\n",
              "          for (const buffer of message.buffers) {\n",
              "            buffers.push(buffer);\n",
              "            downloaded += buffer.byteLength;\n",
              "            progress.value = downloaded;\n",
              "          }\n",
              "        }\n",
              "      }\n",
              "      const blob = new Blob(buffers, {type: 'application/binary'});\n",
              "      const a = document.createElement('a');\n",
              "      a.href = window.URL.createObjectURL(blob);\n",
              "      a.download = filename;\n",
              "      div.appendChild(a);\n",
              "      a.click();\n",
              "      div.remove();\n",
              "    }\n",
              "  "
            ]
          },
          "metadata": {}
        },
        {
          "output_type": "display_data",
          "data": {
            "text/plain": [
              "<IPython.core.display.Javascript object>"
            ],
            "application/javascript": [
              "download(\"download_fb2f48c1-72c3-48d1-9704-6d0fe9c29f5b\", \"mobilenet.zip\", 6473522)"
            ]
          },
          "metadata": {}
        }
      ]
    }
  ]
}