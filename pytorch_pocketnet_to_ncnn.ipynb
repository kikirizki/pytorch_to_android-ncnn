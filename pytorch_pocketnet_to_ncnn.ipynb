{
  "nbformat": 4,
  "nbformat_minor": 0,
  "metadata": {
    "colab": {
      "name": "pytorch_pocketnet_to_ncnn.ipynb",
      "provenance": [],
      "collapsed_sections": []
    },
    "kernelspec": {
      "name": "python3",
      "display_name": "Python 3"
    },
    "language_info": {
      "name": "python"
    },
    "accelerator": "GPU",
    "gpuClass": "standard"
  },
  "cells": [
    {
      "cell_type": "code",
      "source": [
        "%cd /content/\n",
        "!git clone https://github.com/kikirizki/PocketNet\n",
        "!gdown 1sDnU-DuotD0nkJ_1AitlqZGu1Torwifu"
      ],
      "metadata": {
        "colab": {
          "base_uri": "https://localhost:8080/"
        },
        "id": "kwbKQvA3lClc",
        "outputId": "41a1f07c-4ec3-4459-957d-4ff9f18f1d87"
      },
      "execution_count": 1,
      "outputs": [
        {
          "output_type": "stream",
          "name": "stdout",
          "text": [
            "/content\n",
            "Cloning into 'PocketNet'...\n",
            "remote: Enumerating objects: 622, done.\u001b[K\n",
            "remote: Counting objects: 100% (46/46), done.\u001b[K\n",
            "remote: Compressing objects: 100% (18/18), done.\u001b[K\n",
            "remote: Total 622 (delta 32), reused 30 (delta 27), pack-reused 576\u001b[K\n",
            "Receiving objects: 100% (622/622), 73.18 MiB | 36.09 MiB/s, done.\n",
            "Resolving deltas: 100% (346/346), done.\n",
            "Downloading...\n",
            "From: https://drive.google.com/uc?id=1sDnU-DuotD0nkJ_1AitlqZGu1Torwifu\n",
            "To: /content/295672backbone.pth\n",
            "100% 4.24M/4.24M [00:00<00:00, 212MB/s]\n"
          ]
        }
      ]
    },
    {
      "cell_type": "code",
      "source": [
        "%cd /content/PocketNet\n",
        "import logging\n",
        "import os\n",
        "import sys\n",
        "import torch\n",
        "from backbones.augment_cnn import AugmentCNN \n",
        "import backbones.genotypes as gt\n",
        "\n",
        "from configs.config_PocketNetS128 import config as cfg\n",
        "\n",
        "\n",
        "\n",
        "genotype = gt.from_str(cfg.genotypes[\"softmax_casia\"])\n",
        "backbone=AugmentCNN(C=cfg.channel, n_layers=cfg.n_layers, genotype=genotype, stem_multiplier=4,\n",
        "                       emb=cfg.embedding_size)\n",
        "backbone.load_state_dict(torch.load(\"/content/295672backbone.pth\"))\n",
        "backbone.eval()\n",
        "x = torch.randn([1,3,112,112])\n",
        "torch.onnx.export(backbone,               # model being run\n",
        "                  x,                         # model input (or a tuple for multiple inputs)\n",
        "                  \"pocketnet.onnx\",   # where to save the model (can be a file or file-like object)\n",
        "                  export_params=True,        # store the trained parameter weights inside the model file\n",
        "                  opset_version=10,          # the ONNX version to export the model to\n",
        "                  do_constant_folding=True,  # whether to execute constant folding for optimization\n",
        "                 )"
      ],
      "metadata": {
        "colab": {
          "base_uri": "https://localhost:8080/"
        },
        "id": "Bicgzrczv9Y7",
        "outputId": "55b536d4-c7fb-411c-8421-b40a6df3982a"
      },
      "execution_count": 2,
      "outputs": [
        {
          "output_type": "stream",
          "name": "stdout",
          "text": [
            "/content/PocketNet\n",
            "call Factorized\n",
            "call Factorized\n"
          ]
        }
      ]
    },
    {
      "cell_type": "code",
      "source": [
        "%cd /content/\n",
        "!wget -q https://github.com/Tencent/ncnn/releases/download/20220216/ncnn-20220216-ubuntu-1804.zip\n",
        "!unzip -q ncnn-20220216-ubuntu-1804.zip\n",
        "\n",
        "import os\n",
        "os.environ['PATH'] += \":/content/ncnn-20220216-ubuntu-1804/bin\""
      ],
      "metadata": {
        "colab": {
          "base_uri": "https://localhost:8080/"
        },
        "id": "kxQE9oSjKMH-",
        "outputId": "16dfe467-1f1c-4608-9140-60626595f1d6"
      },
      "execution_count": 3,
      "outputs": [
        {
          "output_type": "stream",
          "name": "stdout",
          "text": [
            "/content\n"
          ]
        }
      ]
    },
    {
      "cell_type": "code",
      "source": [
        "!onnx2ncnn \\\n",
        "  PocketNet/pocketnet.onnx \\\n",
        "  pocketnet.param \\\n",
        "  pocketnet.bin"
      ],
      "metadata": {
        "id": "gq_eqQk5KfAj"
      },
      "execution_count": 4,
      "outputs": []
    },
    {
      "cell_type": "code",
      "source": [
        "!apt install vulkan-utils\n",
        "# https://github.com/Tencent/ncnn/wiki/use-ncnnoptimize-to-optimize-model\n",
        "!ncnnoptimize \\\n",
        "  pocketnet.param \\\n",
        "  pocketnet.bin \\\n",
        "  pocketnet-opt.param \\\n",
        "  pocketnet-opt.bin \\\n",
        "  65536"
      ],
      "metadata": {
        "colab": {
          "base_uri": "https://localhost:8080/"
        },
        "id": "7P-5P2KcL-Tt",
        "outputId": "9250e969-74e3-412a-d237-f571f5efdfdd"
      },
      "execution_count": 5,
      "outputs": [
        {
          "output_type": "stream",
          "name": "stdout",
          "text": [
            "Reading package lists... Done\n",
            "Building dependency tree       \n",
            "Reading state information... Done\n",
            "The following package was automatically installed and is no longer required:\n",
            "  libnvidia-common-460\n",
            "Use 'apt autoremove' to remove it.\n",
            "The following additional packages will be installed:\n",
            "  libvulkan1 mesa-vulkan-drivers vulkan-tools\n",
            "The following NEW packages will be installed:\n",
            "  libvulkan1 mesa-vulkan-drivers vulkan-tools vulkan-utils\n",
            "0 upgraded, 4 newly installed, 0 to remove and 49 not upgraded.\n",
            "Need to get 3,315 kB of archives.\n",
            "After this operation, 15.9 MB of additional disk space will be used.\n",
            "Get:1 http://archive.ubuntu.com/ubuntu bionic-updates/universe amd64 mesa-vulkan-drivers amd64 20.0.8-0ubuntu1~18.04.1 [3,059 kB]\n",
            "Get:2 http://ppa.launchpad.net/graphics-drivers/ppa/ubuntu bionic/main amd64 libvulkan1 amd64 1.1.126.0-2~gpu18.04.1 [101 kB]\n",
            "Get:3 http://ppa.launchpad.net/graphics-drivers/ppa/ubuntu bionic/main amd64 vulkan-tools amd64 1.1.126.0+dfsg1-1~gpu18.04.1 [152 kB]\n",
            "Get:4 http://ppa.launchpad.net/graphics-drivers/ppa/ubuntu bionic/main amd64 vulkan-utils all 1.1.126.0+dfsg1-1~gpu18.04.1 [2,612 B]\n",
            "Fetched 3,315 kB in 1s (3,577 kB/s)\n",
            "Selecting previously unselected package libvulkan1:amd64.\n",
            "(Reading database ... 155639 files and directories currently installed.)\n",
            "Preparing to unpack .../libvulkan1_1.1.126.0-2~gpu18.04.1_amd64.deb ...\n",
            "Unpacking libvulkan1:amd64 (1.1.126.0-2~gpu18.04.1) ...\n",
            "Selecting previously unselected package mesa-vulkan-drivers:amd64.\n",
            "Preparing to unpack .../mesa-vulkan-drivers_20.0.8-0ubuntu1~18.04.1_amd64.deb ...\n",
            "Unpacking mesa-vulkan-drivers:amd64 (20.0.8-0ubuntu1~18.04.1) ...\n",
            "Selecting previously unselected package vulkan-tools.\n",
            "Preparing to unpack .../vulkan-tools_1.1.126.0+dfsg1-1~gpu18.04.1_amd64.deb ...\n",
            "Unpacking vulkan-tools (1.1.126.0+dfsg1-1~gpu18.04.1) ...\n",
            "Selecting previously unselected package vulkan-utils.\n",
            "Preparing to unpack .../vulkan-utils_1.1.126.0+dfsg1-1~gpu18.04.1_all.deb ...\n",
            "Unpacking vulkan-utils (1.1.126.0+dfsg1-1~gpu18.04.1) ...\n",
            "Setting up libvulkan1:amd64 (1.1.126.0-2~gpu18.04.1) ...\n",
            "Setting up vulkan-tools (1.1.126.0+dfsg1-1~gpu18.04.1) ...\n",
            "Setting up mesa-vulkan-drivers:amd64 (20.0.8-0ubuntu1~18.04.1) ...\n",
            "Setting up vulkan-utils (1.1.126.0+dfsg1-1~gpu18.04.1) ...\n",
            "Processing triggers for man-db (2.8.3-2ubuntu0.1) ...\n",
            "Processing triggers for libc-bin (2.27-3ubuntu1.3) ...\n",
            "/sbin/ldconfig.real: /usr/local/lib/python3.7/dist-packages/ideep4py/lib/libmkldnn.so.0 is not a symbolic link\n",
            "\n",
            "Input layer input.1 without shape info, shape_inference skipped\n",
            "Input layer input.1 without shape info, estimate_memory_footprint skipped\n"
          ]
        }
      ]
    },
    {
      "cell_type": "code",
      "source": [
        "!mkdir pocketnet\n",
        "!cp pocketnet-opt.param pocketnet/pocketnet.param\n",
        "!cp pocketnet-opt.bin pocketnet/pocketnet.bin\n",
        "\n",
        "!zip -r pocketnet.zip pocketnet\n",
        "\n",
        "from google.colab import files\n",
        "files.download(\"pocketnet.zip\")"
      ],
      "metadata": {
        "colab": {
          "base_uri": "https://localhost:8080/",
          "height": 69
        },
        "id": "e5FO_ZlXLmRu",
        "outputId": "1a5881e1-f94e-4fc3-b32f-88bc29d54e79"
      },
      "execution_count": 6,
      "outputs": [
        {
          "output_type": "stream",
          "name": "stdout",
          "text": [
            "  adding: pocketnet/ (stored 0%)\n",
            "  adding: pocketnet/pocketnet.param (deflated 88%)\n",
            "  adding: pocketnet/pocketnet.bin (deflated 7%)\n"
          ]
        },
        {
          "output_type": "display_data",
          "data": {
            "text/plain": [
              "<IPython.core.display.Javascript object>"
            ],
            "application/javascript": [
              "\n",
              "    async function download(id, filename, size) {\n",
              "      if (!google.colab.kernel.accessAllowed) {\n",
              "        return;\n",
              "      }\n",
              "      const div = document.createElement('div');\n",
              "      const label = document.createElement('label');\n",
              "      label.textContent = `Downloading \"${filename}\": `;\n",
              "      div.appendChild(label);\n",
              "      const progress = document.createElement('progress');\n",
              "      progress.max = size;\n",
              "      div.appendChild(progress);\n",
              "      document.body.appendChild(div);\n",
              "\n",
              "      const buffers = [];\n",
              "      let downloaded = 0;\n",
              "\n",
              "      const channel = await google.colab.kernel.comms.open(id);\n",
              "      // Send a message to notify the kernel that we're ready.\n",
              "      channel.send({})\n",
              "\n",
              "      for await (const message of channel.messages) {\n",
              "        // Send a message to notify the kernel that we're ready.\n",
              "        channel.send({})\n",
              "        if (message.buffers) {\n",
              "          for (const buffer of message.buffers) {\n",
              "            buffers.push(buffer);\n",
              "            downloaded += buffer.byteLength;\n",
              "            progress.value = downloaded;\n",
              "          }\n",
              "        }\n",
              "      }\n",
              "      const blob = new Blob(buffers, {type: 'application/binary'});\n",
              "      const a = document.createElement('a');\n",
              "      a.href = window.URL.createObjectURL(blob);\n",
              "      a.download = filename;\n",
              "      div.appendChild(a);\n",
              "      a.click();\n",
              "      div.remove();\n",
              "    }\n",
              "  "
            ]
          },
          "metadata": {}
        },
        {
          "output_type": "display_data",
          "data": {
            "text/plain": [
              "<IPython.core.display.Javascript object>"
            ],
            "application/javascript": [
              "download(\"download_47307382-5164-4d65-9c52-6739c31f318d\", \"pocketnet.zip\", 1751610)"
            ]
          },
          "metadata": {}
        }
      ]
    }
  ]
}